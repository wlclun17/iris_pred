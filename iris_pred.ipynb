{
 "cells": [
  {
   "cell_type": "code",
   "execution_count": 9,
   "metadata": {},
   "outputs": [],
   "source": [
    "import numpy as np\n",
    "import pandas as pd\n",
    "from sklearn import datasets\n",
    "from sklearn.model_selection import train_test_split\n"
   ]
  },
  {
   "cell_type": "code",
   "execution_count": 10,
   "metadata": {},
   "outputs": [
    {
     "name": "stdout",
     "output_type": "stream",
     "text": [
      "     0    1    2    3\n",
      "0  5.1  3.5  1.4  0.2\n",
      "1  4.9  3.0  1.4  0.2\n",
      "2  4.7  3.2  1.3  0.2\n",
      "3  4.6  3.1  1.5  0.2\n",
      "4  5.0  3.6  1.4  0.2\n"
     ]
    }
   ],
   "source": [
    "iris = datasets.load_iris()\n",
    "X = pd.DataFrame(iris.data)\n",
    "print(X.head())"
   ]
  },
  {
   "cell_type": "code",
   "execution_count": 11,
   "metadata": {},
   "outputs": [
    {
     "name": "stdout",
     "output_type": "stream",
     "text": [
      "分類0: 4.3 5.8\n",
      "分類0: 2.3 4.4\n",
      "分類0: 1.0 1.9\n",
      "分類0: 0.1 0.6\n",
      "-----------------\n",
      "分類1: 4.9 7.0\n",
      "分類1: 2.0 3.4\n",
      "分類1: 3.0 5.1\n",
      "分類1: 1.0 1.8\n",
      "-----------------\n",
      "分類2: 4.9 7.9\n",
      "分類2: 2.2 3.8\n",
      "分類2: 4.5 6.9\n",
      "分類2: 1.4 2.5\n",
      "-----------------\n"
     ]
    }
   ],
   "source": [
    "a1 = X.iloc[:49] #抓前50筆\n",
    "a2 = X.iloc[50:99]\n",
    "a3 = X.iloc[100:]\n",
    "print(\"分類0:\", min(a1[0]),max(a1[0]))\n",
    "print(\"分類0:\", min(a1[1]),max(a1[1]))\n",
    "print(\"分類0:\", min(a1[2]),max(a1[2]))\n",
    "print(\"分類0:\", min(a1[3]),max(a1[3]))\n",
    "print(\"-----------------\")\n",
    "print(\"分類1:\", min(a2[0]),max(a2[0]))\n",
    "print(\"分類1:\", min(a2[1]),max(a2[1]))\n",
    "print(\"分類1:\", min(a2[2]),max(a2[2]))\n",
    "print(\"分類1:\", min(a2[3]),max(a2[3]))\n",
    "print(\"-----------------\")\n",
    "print(\"分類2:\", min(a3[0]),max(a3[0]))\n",
    "print(\"分類2:\", min(a3[1]),max(a3[1]))\n",
    "print(\"分類2:\", min(a3[2]),max(a3[2]))\n",
    "print(\"分類2:\", min(a3[3]),max(a3[3]))\n",
    "print(\"-----------------\")"
   ]
  },
  {
   "cell_type": "code",
   "execution_count": 12,
   "metadata": {},
   "outputs": [
    {
     "name": "stdout",
     "output_type": "stream",
     "text": [
      "               0          1          2          3\n",
      "count  49.000000  49.000000  49.000000  49.000000\n",
      "mean    5.006122   3.430612   1.463265   0.246939\n",
      "std     0.356141   0.382538   0.175231   0.106266\n",
      "min     4.300000   2.300000   1.000000   0.100000\n",
      "25%     4.800000   3.200000   1.400000   0.200000\n",
      "50%     5.000000   3.400000   1.500000   0.200000\n",
      "75%     5.200000   3.700000   1.600000   0.300000\n",
      "max     5.800000   4.400000   1.900000   0.600000\n",
      "\n",
      "               0          1          2          3\n",
      "count  49.000000  49.000000  49.000000  49.000000\n",
      "mean    5.940816   2.769388   4.263265   1.326531\n",
      "std     0.520384   0.317020   0.474207   0.199766\n",
      "min     4.900000   2.000000   3.000000   1.000000\n",
      "25%     5.600000   2.500000   4.000000   1.200000\n",
      "50%     5.900000   2.800000   4.400000   1.300000\n",
      "75%     6.300000   3.000000   4.600000   1.500000\n",
      "max     7.000000   3.400000   5.100000   1.800000\n",
      "\n",
      "              0          1          2         3\n",
      "count  50.00000  50.000000  50.000000  50.00000\n",
      "mean    6.58800   2.974000   5.552000   2.02600\n",
      "std     0.63588   0.322497   0.551895   0.27465\n",
      "min     4.90000   2.200000   4.500000   1.40000\n",
      "25%     6.22500   2.800000   5.100000   1.80000\n",
      "50%     6.50000   3.000000   5.550000   2.00000\n",
      "75%     6.90000   3.175000   5.875000   2.30000\n",
      "max     7.90000   3.800000   6.900000   2.50000\n",
      "\n"
     ]
    }
   ],
   "source": [
    "print(a1.describe(),end=\"\\n\\n\") #\\n\\n => 空兩行\n",
    "print(a2.describe(),end=\"\\n\\n\")\n",
    "print(a3.describe(),end=\"\\n\\n\")"
   ]
  },
  {
   "cell_type": "code",
   "execution_count": 13,
   "metadata": {},
   "outputs": [
    {
     "name": "stdout",
     "output_type": "stream",
     "text": [
      "7.9 4.3\n",
      "4.4 2.0\n",
      "6.9 1.0\n",
      "2.5 0.1\n"
     ]
    }
   ],
   "source": [
    "print(max(X[0]), min(X[0])) #查第一欄的max and min\n",
    "print(max(X[1]), min(X[1]))\n",
    "print(max(X[2]), min(X[2]))\n",
    "print(max(X[3]), min(X[3]))"
   ]
  },
  {
   "cell_type": "code",
   "execution_count": 14,
   "metadata": {},
   "outputs": [
    {
     "name": "stdout",
     "output_type": "stream",
     "text": [
      "[0 0 0 0 0]\n"
     ]
    }
   ],
   "source": [
    "y = iris.target\n",
    "print(y[:5])"
   ]
  },
  {
   "cell_type": "code",
   "execution_count": 15,
   "metadata": {},
   "outputs": [
    {
     "name": "stdout",
     "output_type": "stream",
     "text": [
      "['setosa' 'versicolor' 'virginica']\n"
     ]
    }
   ],
   "source": [
    "y_name = iris.target_names\n",
    "print(y_name)"
   ]
  },
  {
   "cell_type": "code",
   "execution_count": 16,
   "metadata": {},
   "outputs": [],
   "source": [
    "#分割\n",
    "X_train,X_test,y_train,y_test = train_test_split (X,y,\n",
    "                                                  test_size=0.2,\n",
    "                                                  random_state=123,\n",
    "                                                  stratify=y)"
   ]
  },
  {
   "cell_type": "code",
   "execution_count": 17,
   "metadata": {},
   "outputs": [
    {
     "data": {
      "text/html": [
       "<style>#sk-container-id-1 {color: black;background-color: white;}#sk-container-id-1 pre{padding: 0;}#sk-container-id-1 div.sk-toggleable {background-color: white;}#sk-container-id-1 label.sk-toggleable__label {cursor: pointer;display: block;width: 100%;margin-bottom: 0;padding: 0.3em;box-sizing: border-box;text-align: center;}#sk-container-id-1 label.sk-toggleable__label-arrow:before {content: \"▸\";float: left;margin-right: 0.25em;color: #696969;}#sk-container-id-1 label.sk-toggleable__label-arrow:hover:before {color: black;}#sk-container-id-1 div.sk-estimator:hover label.sk-toggleable__label-arrow:before {color: black;}#sk-container-id-1 div.sk-toggleable__content {max-height: 0;max-width: 0;overflow: hidden;text-align: left;background-color: #f0f8ff;}#sk-container-id-1 div.sk-toggleable__content pre {margin: 0.2em;color: black;border-radius: 0.25em;background-color: #f0f8ff;}#sk-container-id-1 input.sk-toggleable__control:checked~div.sk-toggleable__content {max-height: 200px;max-width: 100%;overflow: auto;}#sk-container-id-1 input.sk-toggleable__control:checked~label.sk-toggleable__label-arrow:before {content: \"▾\";}#sk-container-id-1 div.sk-estimator input.sk-toggleable__control:checked~label.sk-toggleable__label {background-color: #d4ebff;}#sk-container-id-1 div.sk-label input.sk-toggleable__control:checked~label.sk-toggleable__label {background-color: #d4ebff;}#sk-container-id-1 input.sk-hidden--visually {border: 0;clip: rect(1px 1px 1px 1px);clip: rect(1px, 1px, 1px, 1px);height: 1px;margin: -1px;overflow: hidden;padding: 0;position: absolute;width: 1px;}#sk-container-id-1 div.sk-estimator {font-family: monospace;background-color: #f0f8ff;border: 1px dotted black;border-radius: 0.25em;box-sizing: border-box;margin-bottom: 0.5em;}#sk-container-id-1 div.sk-estimator:hover {background-color: #d4ebff;}#sk-container-id-1 div.sk-parallel-item::after {content: \"\";width: 100%;border-bottom: 1px solid gray;flex-grow: 1;}#sk-container-id-1 div.sk-label:hover label.sk-toggleable__label {background-color: #d4ebff;}#sk-container-id-1 div.sk-serial::before {content: \"\";position: absolute;border-left: 1px solid gray;box-sizing: border-box;top: 0;bottom: 0;left: 50%;z-index: 0;}#sk-container-id-1 div.sk-serial {display: flex;flex-direction: column;align-items: center;background-color: white;padding-right: 0.2em;padding-left: 0.2em;position: relative;}#sk-container-id-1 div.sk-item {position: relative;z-index: 1;}#sk-container-id-1 div.sk-parallel {display: flex;align-items: stretch;justify-content: center;background-color: white;position: relative;}#sk-container-id-1 div.sk-item::before, #sk-container-id-1 div.sk-parallel-item::before {content: \"\";position: absolute;border-left: 1px solid gray;box-sizing: border-box;top: 0;bottom: 0;left: 50%;z-index: -1;}#sk-container-id-1 div.sk-parallel-item {display: flex;flex-direction: column;z-index: 1;position: relative;background-color: white;}#sk-container-id-1 div.sk-parallel-item:first-child::after {align-self: flex-end;width: 50%;}#sk-container-id-1 div.sk-parallel-item:last-child::after {align-self: flex-start;width: 50%;}#sk-container-id-1 div.sk-parallel-item:only-child::after {width: 0;}#sk-container-id-1 div.sk-dashed-wrapped {border: 1px dashed gray;margin: 0 0.4em 0.5em 0.4em;box-sizing: border-box;padding-bottom: 0.4em;background-color: white;}#sk-container-id-1 div.sk-label label {font-family: monospace;font-weight: bold;display: inline-block;line-height: 1.2em;}#sk-container-id-1 div.sk-label-container {text-align: center;}#sk-container-id-1 div.sk-container {/* jupyter's `normalize.less` sets `[hidden] { display: none; }` but bootstrap.min.css set `[hidden] { display: none !important; }` so we also need the `!important` here to be able to override the default hidden behavior on the sphinx rendered scikit-learn.org. See: https://github.com/scikit-learn/scikit-learn/issues/21755 */display: inline-block !important;position: relative;}#sk-container-id-1 div.sk-text-repr-fallback {display: none;}</style><div id=\"sk-container-id-1\" class=\"sk-top-container\"><div class=\"sk-text-repr-fallback\"><pre>SVC()</pre><b>In a Jupyter environment, please rerun this cell to show the HTML representation or trust the notebook. <br />On GitHub, the HTML representation is unable to render, please try loading this page with nbviewer.org.</b></div><div class=\"sk-container\" hidden><div class=\"sk-item\"><div class=\"sk-estimator sk-toggleable\"><input class=\"sk-toggleable__control sk-hidden--visually\" id=\"sk-estimator-id-1\" type=\"checkbox\" checked><label for=\"sk-estimator-id-1\" class=\"sk-toggleable__label sk-toggleable__label-arrow\">SVC</label><div class=\"sk-toggleable__content\"><pre>SVC()</pre></div></div></div></div></div>"
      ],
      "text/plain": [
       "SVC()"
      ]
     },
     "execution_count": 17,
     "metadata": {},
     "output_type": "execute_result"
    }
   ],
   "source": [
    "#開始要封裝\n",
    "from sklearn.svm import SVC\n",
    "svm_clf = SVC()\n",
    "svm_clf.fit(X_train,y_train)"
   ]
  },
  {
   "cell_type": "code",
   "execution_count": 18,
   "metadata": {},
   "outputs": [
    {
     "name": "stdout",
     "output_type": "stream",
     "text": [
      "0.9\n"
     ]
    }
   ],
   "source": [
    "from sklearn.metrics import accuracy_score #載入評估模型\n",
    "acc = accuracy_score(y_test, svm_clf.predict(X_test)) #前面真實y, 後面預測的y hat\n",
    "print(acc)"
   ]
  },
  {
   "cell_type": "code",
   "execution_count": 19,
   "metadata": {},
   "outputs": [
    {
     "data": {
      "text/plain": [
       "['svm_clf_model.joblib']"
      ]
     },
     "execution_count": 19,
     "metadata": {},
     "output_type": "execute_result"
    }
   ],
   "source": [
    "import joblib #封裝\n",
    "joblib.dump(svm_clf,\"svm_clf_model.joblib\") # 將svm_clf封裝成附檔名\n",
    "\n"
   ]
  },
  {
   "cell_type": "code",
   "execution_count": 20,
   "metadata": {},
   "outputs": [
    {
     "name": "stdout",
     "output_type": "stream",
     "text": [
      "0.9333333333333333\n"
     ]
    }
   ],
   "source": [
    "from sklearn.neighbors import KNeighborsClassifier\n",
    "knn_clf = KNeighborsClassifier() #預設五個鄰居\n",
    "knn_clf.fit(X_train, y_train)\n",
    "acc2 = accuracy_score(y_test, knn_clf.predict(X_test))\n",
    "print(acc2)"
   ]
  },
  {
   "cell_type": "code",
   "execution_count": 21,
   "metadata": {},
   "outputs": [
    {
     "data": {
      "text/plain": [
       "['knn_clf_model.joblib']"
      ]
     },
     "execution_count": 21,
     "metadata": {},
     "output_type": "execute_result"
    }
   ],
   "source": [
    "joblib.dump(knn_clf,\"knn_clf_model.joblib\")"
   ]
  },
  {
   "cell_type": "code",
   "execution_count": 22,
   "metadata": {},
   "outputs": [
    {
     "name": "stdout",
     "output_type": "stream",
     "text": [
      "0.9666666666666667\n"
     ]
    }
   ],
   "source": [
    "from sklearn.ensemble import RandomForestClassifier\n",
    "rf_clf = RandomForestClassifier(n_estimators=20, max_depth=None,\n",
    "    min_samples_split=5, random_state=0)\n",
    "#rf_clf = RandomForestClassifier()\n",
    "rf_clf.fit(X_train, y_train)\n",
    "acc3 = accuracy_score(y_test, rf_clf.predict(X_test))\n",
    "print(acc3)"
   ]
  },
  {
   "cell_type": "code",
   "execution_count": 23,
   "metadata": {},
   "outputs": [
    {
     "name": "stdout",
     "output_type": "stream",
     "text": [
      "<class 'numpy.ndarray'>\n",
      "1\n"
     ]
    }
   ],
   "source": [
    "b = rf_clf.predict(X_test)\n",
    "print(type(b)) #看是一維還二維\n",
    "print(b.ndim)"
   ]
  },
  {
   "cell_type": "code",
   "execution_count": 24,
   "metadata": {},
   "outputs": [
    {
     "data": {
      "text/plain": [
       "['rf_clf_model.joblib']"
      ]
     },
     "execution_count": 24,
     "metadata": {},
     "output_type": "execute_result"
    }
   ],
   "source": [
    "joblib.dump(rf_clf,\"rf_clf_model.joblib\")\n",
    "#封裝結束"
   ]
  }
 ],
 "metadata": {
  "kernelspec": {
   "display_name": "base",
   "language": "python",
   "name": "python3"
  },
  "language_info": {
   "codemirror_mode": {
    "name": "ipython",
    "version": 3
   },
   "file_extension": ".py",
   "mimetype": "text/x-python",
   "name": "python",
   "nbconvert_exporter": "python",
   "pygments_lexer": "ipython3",
   "version": "3.10.9"
  },
  "orig_nbformat": 4
 },
 "nbformat": 4,
 "nbformat_minor": 2
}
